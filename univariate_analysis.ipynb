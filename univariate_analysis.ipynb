{
 "cells": [
  {
   "cell_type": "code",
   "execution_count": 2,
   "id": "58a59718-f8d3-4471-a5eb-a046c7f692d4",
   "metadata": {},
   "outputs": [],
   "source": [
    "#importing the required libraries\n",
    "import numpy as np\n",
    "import pandas as pd\n",
    "import matplotlib.pyplot as plt\n",
    "import seaborn as sns"
   ]
  },
  {
   "cell_type": "code",
   "execution_count": 3,
   "id": "afcae94d-5348-44e2-bda1-00d7d1eea43c",
   "metadata": {},
   "outputs": [],
   "source": [
    "#load the dataset\n",
    "df=pd.read_csv('spotify_churn_dataset.csv')"
   ]
  },
  {
   "cell_type": "code",
   "execution_count": 4,
   "id": "53e2e893-b3b5-46c7-9d0d-790e75f80ad1",
   "metadata": {},
   "outputs": [
    {
     "name": "stdout",
     "output_type": "stream",
     "text": [
      " The columns are Index(['user_id', 'gender', 'age', 'country', 'subscription_type',\n",
      "       'listening_time', 'songs_played_per_day', 'skip_rate', 'device_type',\n",
      "       'ads_listened_per_week', 'offline_listening', 'is_churned'],\n",
      "      dtype='object')\n"
     ]
    }
   ],
   "source": [
    "print(f' The columns are {df.columns}')"
   ]
  },
  {
   "cell_type": "code",
   "execution_count": 5,
   "id": "f78f2aa2-aecc-43ae-83f0-43c503bd64db",
   "metadata": {},
   "outputs": [
    {
     "name": "stdout",
     "output_type": "stream",
     "text": [
      "<class 'pandas.core.frame.DataFrame'>\n",
      "RangeIndex: 8000 entries, 0 to 7999\n",
      "Data columns (total 12 columns):\n",
      " #   Column                 Non-Null Count  Dtype  \n",
      "---  ------                 --------------  -----  \n",
      " 0   user_id                8000 non-null   int64  \n",
      " 1   gender                 8000 non-null   object \n",
      " 2   age                    8000 non-null   int64  \n",
      " 3   country                8000 non-null   object \n",
      " 4   subscription_type      8000 non-null   object \n",
      " 5   listening_time         8000 non-null   int64  \n",
      " 6   songs_played_per_day   8000 non-null   int64  \n",
      " 7   skip_rate              8000 non-null   float64\n",
      " 8   device_type            8000 non-null   object \n",
      " 9   ads_listened_per_week  8000 non-null   int64  \n",
      " 10  offline_listening      8000 non-null   int64  \n",
      " 11  is_churned             8000 non-null   int64  \n",
      "dtypes: float64(1), int64(7), object(4)\n",
      "memory usage: 750.1+ KB\n"
     ]
    }
   ],
   "source": [
    "df.info()"
   ]
  },
  {
   "cell_type": "code",
   "execution_count": 6,
   "id": "95f36fd9-bb1d-40ac-9e33-3e4f97cccc87",
   "metadata": {},
   "outputs": [
    {
     "data": {
      "text/html": [
       "<div>\n",
       "<style scoped>\n",
       "    .dataframe tbody tr th:only-of-type {\n",
       "        vertical-align: middle;\n",
       "    }\n",
       "\n",
       "    .dataframe tbody tr th {\n",
       "        vertical-align: top;\n",
       "    }\n",
       "\n",
       "    .dataframe thead th {\n",
       "        text-align: right;\n",
       "    }\n",
       "</style>\n",
       "<table border=\"1\" class=\"dataframe\">\n",
       "  <thead>\n",
       "    <tr style=\"text-align: right;\">\n",
       "      <th></th>\n",
       "      <th>user_id</th>\n",
       "      <th>age</th>\n",
       "      <th>listening_time</th>\n",
       "      <th>songs_played_per_day</th>\n",
       "      <th>skip_rate</th>\n",
       "      <th>ads_listened_per_week</th>\n",
       "      <th>offline_listening</th>\n",
       "      <th>is_churned</th>\n",
       "    </tr>\n",
       "  </thead>\n",
       "  <tbody>\n",
       "    <tr>\n",
       "      <th>count</th>\n",
       "      <td>8000.00000</td>\n",
       "      <td>8000.000000</td>\n",
       "      <td>8000.000000</td>\n",
       "      <td>8000.000000</td>\n",
       "      <td>8000.000000</td>\n",
       "      <td>8000.000000</td>\n",
       "      <td>8000.000000</td>\n",
       "      <td>8000.000000</td>\n",
       "    </tr>\n",
       "    <tr>\n",
       "      <th>mean</th>\n",
       "      <td>4000.50000</td>\n",
       "      <td>37.662125</td>\n",
       "      <td>154.068250</td>\n",
       "      <td>50.127250</td>\n",
       "      <td>0.300127</td>\n",
       "      <td>6.943875</td>\n",
       "      <td>0.747750</td>\n",
       "      <td>0.258875</td>\n",
       "    </tr>\n",
       "    <tr>\n",
       "      <th>std</th>\n",
       "      <td>2309.54541</td>\n",
       "      <td>12.740359</td>\n",
       "      <td>84.015596</td>\n",
       "      <td>28.449762</td>\n",
       "      <td>0.173594</td>\n",
       "      <td>13.617953</td>\n",
       "      <td>0.434331</td>\n",
       "      <td>0.438044</td>\n",
       "    </tr>\n",
       "    <tr>\n",
       "      <th>min</th>\n",
       "      <td>1.00000</td>\n",
       "      <td>16.000000</td>\n",
       "      <td>10.000000</td>\n",
       "      <td>1.000000</td>\n",
       "      <td>0.000000</td>\n",
       "      <td>0.000000</td>\n",
       "      <td>0.000000</td>\n",
       "      <td>0.000000</td>\n",
       "    </tr>\n",
       "    <tr>\n",
       "      <th>25%</th>\n",
       "      <td>2000.75000</td>\n",
       "      <td>26.000000</td>\n",
       "      <td>81.000000</td>\n",
       "      <td>25.000000</td>\n",
       "      <td>0.150000</td>\n",
       "      <td>0.000000</td>\n",
       "      <td>0.000000</td>\n",
       "      <td>0.000000</td>\n",
       "    </tr>\n",
       "    <tr>\n",
       "      <th>50%</th>\n",
       "      <td>4000.50000</td>\n",
       "      <td>38.000000</td>\n",
       "      <td>154.000000</td>\n",
       "      <td>50.000000</td>\n",
       "      <td>0.300000</td>\n",
       "      <td>0.000000</td>\n",
       "      <td>1.000000</td>\n",
       "      <td>0.000000</td>\n",
       "    </tr>\n",
       "    <tr>\n",
       "      <th>75%</th>\n",
       "      <td>6000.25000</td>\n",
       "      <td>49.000000</td>\n",
       "      <td>227.000000</td>\n",
       "      <td>75.000000</td>\n",
       "      <td>0.450000</td>\n",
       "      <td>5.000000</td>\n",
       "      <td>1.000000</td>\n",
       "      <td>1.000000</td>\n",
       "    </tr>\n",
       "    <tr>\n",
       "      <th>max</th>\n",
       "      <td>8000.00000</td>\n",
       "      <td>59.000000</td>\n",
       "      <td>299.000000</td>\n",
       "      <td>99.000000</td>\n",
       "      <td>0.600000</td>\n",
       "      <td>49.000000</td>\n",
       "      <td>1.000000</td>\n",
       "      <td>1.000000</td>\n",
       "    </tr>\n",
       "  </tbody>\n",
       "</table>\n",
       "</div>"
      ],
      "text/plain": [
       "          user_id          age  listening_time  songs_played_per_day  \\\n",
       "count  8000.00000  8000.000000     8000.000000           8000.000000   \n",
       "mean   4000.50000    37.662125      154.068250             50.127250   \n",
       "std    2309.54541    12.740359       84.015596             28.449762   \n",
       "min       1.00000    16.000000       10.000000              1.000000   \n",
       "25%    2000.75000    26.000000       81.000000             25.000000   \n",
       "50%    4000.50000    38.000000      154.000000             50.000000   \n",
       "75%    6000.25000    49.000000      227.000000             75.000000   \n",
       "max    8000.00000    59.000000      299.000000             99.000000   \n",
       "\n",
       "         skip_rate  ads_listened_per_week  offline_listening   is_churned  \n",
       "count  8000.000000            8000.000000        8000.000000  8000.000000  \n",
       "mean      0.300127               6.943875           0.747750     0.258875  \n",
       "std       0.173594              13.617953           0.434331     0.438044  \n",
       "min       0.000000               0.000000           0.000000     0.000000  \n",
       "25%       0.150000               0.000000           0.000000     0.000000  \n",
       "50%       0.300000               0.000000           1.000000     0.000000  \n",
       "75%       0.450000               5.000000           1.000000     1.000000  \n",
       "max       0.600000              49.000000           1.000000     1.000000  "
      ]
     },
     "execution_count": 6,
     "metadata": {},
     "output_type": "execute_result"
    }
   ],
   "source": [
    "df.describe()"
   ]
  },
  {
   "cell_type": "code",
   "execution_count": 7,
   "id": "bb26595d-c6c5-45aa-b41a-f6ba71d2ab46",
   "metadata": {},
   "outputs": [
    {
     "data": {
      "text/html": [
       "<div>\n",
       "<style scoped>\n",
       "    .dataframe tbody tr th:only-of-type {\n",
       "        vertical-align: middle;\n",
       "    }\n",
       "\n",
       "    .dataframe tbody tr th {\n",
       "        vertical-align: top;\n",
       "    }\n",
       "\n",
       "    .dataframe thead th {\n",
       "        text-align: right;\n",
       "    }\n",
       "</style>\n",
       "<table border=\"1\" class=\"dataframe\">\n",
       "  <thead>\n",
       "    <tr style=\"text-align: right;\">\n",
       "      <th></th>\n",
       "      <th>user_id</th>\n",
       "      <th>gender</th>\n",
       "      <th>age</th>\n",
       "      <th>country</th>\n",
       "      <th>subscription_type</th>\n",
       "      <th>listening_time</th>\n",
       "      <th>songs_played_per_day</th>\n",
       "      <th>skip_rate</th>\n",
       "      <th>device_type</th>\n",
       "      <th>ads_listened_per_week</th>\n",
       "      <th>offline_listening</th>\n",
       "      <th>is_churned</th>\n",
       "    </tr>\n",
       "  </thead>\n",
       "  <tbody>\n",
       "    <tr>\n",
       "      <th>0</th>\n",
       "      <td>1</td>\n",
       "      <td>Female</td>\n",
       "      <td>54</td>\n",
       "      <td>CA</td>\n",
       "      <td>Free</td>\n",
       "      <td>26</td>\n",
       "      <td>23</td>\n",
       "      <td>0.20</td>\n",
       "      <td>Desktop</td>\n",
       "      <td>31</td>\n",
       "      <td>0</td>\n",
       "      <td>1</td>\n",
       "    </tr>\n",
       "    <tr>\n",
       "      <th>1</th>\n",
       "      <td>2</td>\n",
       "      <td>Other</td>\n",
       "      <td>33</td>\n",
       "      <td>DE</td>\n",
       "      <td>Family</td>\n",
       "      <td>141</td>\n",
       "      <td>62</td>\n",
       "      <td>0.34</td>\n",
       "      <td>Web</td>\n",
       "      <td>0</td>\n",
       "      <td>1</td>\n",
       "      <td>0</td>\n",
       "    </tr>\n",
       "    <tr>\n",
       "      <th>2</th>\n",
       "      <td>3</td>\n",
       "      <td>Male</td>\n",
       "      <td>38</td>\n",
       "      <td>AU</td>\n",
       "      <td>Premium</td>\n",
       "      <td>199</td>\n",
       "      <td>38</td>\n",
       "      <td>0.04</td>\n",
       "      <td>Mobile</td>\n",
       "      <td>0</td>\n",
       "      <td>1</td>\n",
       "      <td>1</td>\n",
       "    </tr>\n",
       "    <tr>\n",
       "      <th>3</th>\n",
       "      <td>4</td>\n",
       "      <td>Female</td>\n",
       "      <td>22</td>\n",
       "      <td>CA</td>\n",
       "      <td>Student</td>\n",
       "      <td>36</td>\n",
       "      <td>2</td>\n",
       "      <td>0.31</td>\n",
       "      <td>Mobile</td>\n",
       "      <td>0</td>\n",
       "      <td>1</td>\n",
       "      <td>0</td>\n",
       "    </tr>\n",
       "    <tr>\n",
       "      <th>4</th>\n",
       "      <td>5</td>\n",
       "      <td>Other</td>\n",
       "      <td>29</td>\n",
       "      <td>US</td>\n",
       "      <td>Family</td>\n",
       "      <td>250</td>\n",
       "      <td>57</td>\n",
       "      <td>0.36</td>\n",
       "      <td>Mobile</td>\n",
       "      <td>0</td>\n",
       "      <td>1</td>\n",
       "      <td>1</td>\n",
       "    </tr>\n",
       "    <tr>\n",
       "      <th>...</th>\n",
       "      <td>...</td>\n",
       "      <td>...</td>\n",
       "      <td>...</td>\n",
       "      <td>...</td>\n",
       "      <td>...</td>\n",
       "      <td>...</td>\n",
       "      <td>...</td>\n",
       "      <td>...</td>\n",
       "      <td>...</td>\n",
       "      <td>...</td>\n",
       "      <td>...</td>\n",
       "      <td>...</td>\n",
       "    </tr>\n",
       "    <tr>\n",
       "      <th>7995</th>\n",
       "      <td>7996</td>\n",
       "      <td>Other</td>\n",
       "      <td>44</td>\n",
       "      <td>DE</td>\n",
       "      <td>Student</td>\n",
       "      <td>237</td>\n",
       "      <td>36</td>\n",
       "      <td>0.30</td>\n",
       "      <td>Mobile</td>\n",
       "      <td>0</td>\n",
       "      <td>1</td>\n",
       "      <td>1</td>\n",
       "    </tr>\n",
       "    <tr>\n",
       "      <th>7996</th>\n",
       "      <td>7997</td>\n",
       "      <td>Male</td>\n",
       "      <td>34</td>\n",
       "      <td>AU</td>\n",
       "      <td>Premium</td>\n",
       "      <td>61</td>\n",
       "      <td>64</td>\n",
       "      <td>0.59</td>\n",
       "      <td>Mobile</td>\n",
       "      <td>0</td>\n",
       "      <td>1</td>\n",
       "      <td>0</td>\n",
       "    </tr>\n",
       "    <tr>\n",
       "      <th>7997</th>\n",
       "      <td>7998</td>\n",
       "      <td>Female</td>\n",
       "      <td>17</td>\n",
       "      <td>US</td>\n",
       "      <td>Free</td>\n",
       "      <td>81</td>\n",
       "      <td>62</td>\n",
       "      <td>0.33</td>\n",
       "      <td>Desktop</td>\n",
       "      <td>5</td>\n",
       "      <td>0</td>\n",
       "      <td>0</td>\n",
       "    </tr>\n",
       "    <tr>\n",
       "      <th>7998</th>\n",
       "      <td>7999</td>\n",
       "      <td>Female</td>\n",
       "      <td>34</td>\n",
       "      <td>IN</td>\n",
       "      <td>Student</td>\n",
       "      <td>245</td>\n",
       "      <td>94</td>\n",
       "      <td>0.27</td>\n",
       "      <td>Desktop</td>\n",
       "      <td>0</td>\n",
       "      <td>1</td>\n",
       "      <td>0</td>\n",
       "    </tr>\n",
       "    <tr>\n",
       "      <th>7999</th>\n",
       "      <td>8000</td>\n",
       "      <td>Other</td>\n",
       "      <td>45</td>\n",
       "      <td>AU</td>\n",
       "      <td>Free</td>\n",
       "      <td>210</td>\n",
       "      <td>68</td>\n",
       "      <td>0.46</td>\n",
       "      <td>Desktop</td>\n",
       "      <td>6</td>\n",
       "      <td>0</td>\n",
       "      <td>0</td>\n",
       "    </tr>\n",
       "  </tbody>\n",
       "</table>\n",
       "<p>8000 rows × 12 columns</p>\n",
       "</div>"
      ],
      "text/plain": [
       "      user_id  gender  age country subscription_type  listening_time  \\\n",
       "0           1  Female   54      CA              Free              26   \n",
       "1           2   Other   33      DE            Family             141   \n",
       "2           3    Male   38      AU           Premium             199   \n",
       "3           4  Female   22      CA           Student              36   \n",
       "4           5   Other   29      US            Family             250   \n",
       "...       ...     ...  ...     ...               ...             ...   \n",
       "7995     7996   Other   44      DE           Student             237   \n",
       "7996     7997    Male   34      AU           Premium              61   \n",
       "7997     7998  Female   17      US              Free              81   \n",
       "7998     7999  Female   34      IN           Student             245   \n",
       "7999     8000   Other   45      AU              Free             210   \n",
       "\n",
       "      songs_played_per_day  skip_rate device_type  ads_listened_per_week  \\\n",
       "0                       23       0.20     Desktop                     31   \n",
       "1                       62       0.34         Web                      0   \n",
       "2                       38       0.04      Mobile                      0   \n",
       "3                        2       0.31      Mobile                      0   \n",
       "4                       57       0.36      Mobile                      0   \n",
       "...                    ...        ...         ...                    ...   \n",
       "7995                    36       0.30      Mobile                      0   \n",
       "7996                    64       0.59      Mobile                      0   \n",
       "7997                    62       0.33     Desktop                      5   \n",
       "7998                    94       0.27     Desktop                      0   \n",
       "7999                    68       0.46     Desktop                      6   \n",
       "\n",
       "      offline_listening  is_churned  \n",
       "0                     0           1  \n",
       "1                     1           0  \n",
       "2                     1           1  \n",
       "3                     1           0  \n",
       "4                     1           1  \n",
       "...                 ...         ...  \n",
       "7995                  1           1  \n",
       "7996                  1           0  \n",
       "7997                  0           0  \n",
       "7998                  1           0  \n",
       "7999                  0           0  \n",
       "\n",
       "[8000 rows x 12 columns]"
      ]
     },
     "execution_count": 7,
     "metadata": {},
     "output_type": "execute_result"
    }
   ],
   "source": [
    "# just viewing the dataset\n",
    "df"
   ]
  },
  {
   "cell_type": "code",
   "execution_count": null,
   "id": "810558a3-cf4b-4e3d-98a6-739ddd4292bb",
   "metadata": {},
   "outputs": [
    {
     "data": {
      "image/png": "[encoded data removed]",
      "text/plain": [
       "<Figure size 640x480 with 1 Axes>"
      ]
     },
     "metadata": {},
     "output_type": "display_data"
    }
   ],
   "source": [
    "#checking the people of ages who are listenisng\n",
    "plt.title(\" people of ages who are listenisng\",size=30,color='g')\n",
    "sns.histplot(df['age'],kde=True) # all the ages are listening\n",
    "plt.xlabel('Age',color='b',size=20)\n",
    "plt.ylabel('Count',color='b',size=20)\n",
    "plt.show\n",
    "#plt.savefig('univariate1.jpg')\n",
    "# undo comment to save the pic"
   ]
  },
  {
   "cell_type": "code",
   "execution_count": null,
   "id": "409c30eb-97d8-4860-8fc0-fd7bf5aeefd5",
   "metadata": {},
   "outputs": [
    {
     "data": {
      "image/png": "[encoded data removed]",
      "text/plain": [
       "<Figure size 640x480 with 1 Axes>"
      ]
     },
     "metadata": {},
     "output_type": "display_data"
    },
    {
     "data": {
      "text/plain": [
       "<Figure size 640x480 with 0 Axes>"
      ]
     },
     "metadata": {},
     "output_type": "display_data"
    }
   ],
   "source": [
    "# genders \n",
    "plt.title('Gender  Graph',color='g',size=30)\n",
    "sns.countplot(df['gender'])\n",
    "plt.xlabel('Count',color='b',size=20)\n",
    "plt.ylabel('Gender',color='b',size=20)\n",
    "plt.show()\n",
    "#plt.savefig('univariate2.png') \n",
    "# you can undo comment to save the pic"
   ]
  },
  {
   "cell_type": "code",
   "execution_count": 10,
   "id": "88891f47-982a-4a39-a7b5-6972934abbe7",
   "metadata": {},
   "outputs": [
    {
     "data": {
      "text/plain": [
       "8"
      ]
     },
     "execution_count": 10,
     "metadata": {},
     "output_type": "execute_result"
    }
   ],
   "source": [
    "df['country'].nunique() # displaying the unique country selected "
   ]
  },
  {
   "cell_type": "code",
   "execution_count": null,
   "id": "e6850a87-b712-4aa4-bc03-4faef46efb29",
   "metadata": {},
   "outputs": [
    {
     "data": {
      "image/png": "[encoded data removed]",
      "text/plain": [
       "<Figure size 640x480 with 1 Axes>"
      ]
     },
     "metadata": {},
     "output_type": "display_data"
    }
   ],
   "source": [
    "plt.title('Country Count',color='g',size=30)\n",
    "sns.countplot(df['country']) # all the country are same \n",
    "plt.xlabel('Count of people',color='b',size=20)\n",
    "plt.ylabel('Country',color='b',size=20)\n",
    "#plt.savefig('univariate3.jpg')\n",
    "# you can do undo comment to save the pic"
   ]
  },
  {
   "cell_type": "code",
   "execution_count": 12,
   "id": "ae13bb3d-5a87-44bd-8b8d-060cd5de2d00",
   "metadata": {},
   "outputs": [
    {
     "data": {
      "text/plain": [
       "4"
      ]
     },
     "execution_count": 12,
     "metadata": {},
     "output_type": "execute_result"
    }
   ],
   "source": [
    "# subscription types\n",
    "df['subscription_type'].nunique()"
   ]
  },
  {
   "cell_type": "code",
   "execution_count": 13,
   "id": "90915d86-3c51-4951-a12c-f1c0455458f4",
   "metadata": {},
   "outputs": [
    {
     "name": "stdout",
     "output_type": "stream",
     "text": [
      " On an average the people spending time was -----> 154.06825\n"
     ]
    }
   ],
   "source": [
    "print(f' On an average the people spending time was -----> {np.mean(df['listening_time'])}')"
   ]
  },
  {
   "cell_type": "code",
   "execution_count": 14,
   "id": "22f185e5-6319-4a98-8caa-e6f9257c7c0d",
   "metadata": {},
   "outputs": [
    {
     "name": "stdout",
     "output_type": "stream",
     "text": [
      " On an average the songs played per day was ----->50.12725\n"
     ]
    }
   ],
   "source": [
    "print(f' On an average the songs played per day was ----->{np.mean(df['songs_played_per_day'])}')"
   ]
  },
  {
   "cell_type": "code",
   "execution_count": 15,
   "id": "7d550660-3b2f-4d05-9580-4e61784939b0",
   "metadata": {},
   "outputs": [
    {
     "name": "stdout",
     "output_type": "stream",
     "text": [
      " On an average the songs skipped rate  was ----->0.30012749999999994\n"
     ]
    }
   ],
   "source": [
    "print(f' On an average the songs skipped rate  was ----->{np.mean(df['skip_rate'])}')"
   ]
  },
  {
   "cell_type": "code",
   "execution_count": 16,
   "id": "4dca896f-2bf5-4676-9bfc-75e7d92dfcd9",
   "metadata": {},
   "outputs": [
    {
     "data": {
      "text/plain": [
       "device_type\n",
       "Desktop    2778\n",
       "Web        2623\n",
       "Mobile     2599\n",
       "Name: count, dtype: int64"
      ]
     },
     "execution_count": 16,
     "metadata": {},
     "output_type": "execute_result"
    }
   ],
   "source": [
    "df['device_type'].value_counts()"
   ]
  },
  {
   "cell_type": "code",
   "execution_count": 17,
   "id": "ede398e0-6f1f-4e2c-acb9-483d4fac15df",
   "metadata": {},
   "outputs": [
    {
     "data": {
      "text/plain": [
       "np.float64(26.41304347826087)"
      ]
     },
     "execution_count": 17,
     "metadata": {},
     "output_type": "execute_result"
    }
   ],
   "source": [
    "np.mean(df['ads_listened_per_week'].unique())"
   ]
  },
  {
   "cell_type": "code",
   "execution_count": 18,
   "id": "5eb64e65-ac80-4eb7-858d-a8c530109ec1",
   "metadata": {},
   "outputs": [
    {
     "name": "stdout",
     "output_type": "stream",
     "text": [
      "offline_listening\n",
      "1    5982\n",
      "0    2018\n",
      "Name: count, dtype: int64\n"
     ]
    }
   ],
   "source": [
    "print(df['offline_listening'].value_counts())"
   ]
  },
  {
   "cell_type": "code",
   "execution_count": null,
   "id": "675cd187-805d-4120-8793-1b0a46be914e",
   "metadata": {},
   "outputs": [],
   "source": []
  },
  {
   "cell_type": "code",
   "execution_count": null,
   "id": "a9e8af95-d877-4669-86a6-256f6b8847ab",
   "metadata": {},
   "outputs": [],
   "source": []
  }
 ],
 "metadata": {
  "kernelspec": {
   "display_name": "Python 3 (ipykernel)",
   "language": "python",
   "name": "python3"
  },
  "language_info": {
   "codemirror_mode": {
    "name": "ipython",
    "version": 3
   },
   "file_extension": ".py",
   "mimetype": "text/x-python",
   "name": "python",
   "nbconvert_exporter": "python",
   "pygments_lexer": "ipython3",
   "version": "3.13.3"
  }
 },
 "nbformat": 4,
 "nbformat_minor": 5
}
